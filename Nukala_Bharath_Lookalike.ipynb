{
 "cells": [
  {
   "cell_type": "markdown",
   "id": "90b77971-3471-40a8-8068-5f4ad15dc367",
   "metadata": {},
   "source": [
    "Lookalike Models Implementation"
   ]
  },
  {
   "cell_type": "raw",
   "id": "bb62bdf8-7288-4e3a-9122-30d9bcba236d",
   "metadata": {},
   "source": [
    "Jupyter Notebook Code Example"
   ]
  },
  {
   "cell_type": "code",
   "execution_count": 1,
   "id": "13a6c12e-1ad8-44a6-a7f9-667bc355da81",
   "metadata": {},
   "outputs": [
    {
     "data": {
      "text/html": [
       "<div>\n",
       "<style scoped>\n",
       "    .dataframe tbody tr th:only-of-type {\n",
       "        vertical-align: middle;\n",
       "    }\n",
       "\n",
       "    .dataframe tbody tr th {\n",
       "        vertical-align: top;\n",
       "    }\n",
       "\n",
       "    .dataframe thead th {\n",
       "        text-align: right;\n",
       "    }\n",
       "</style>\n",
       "<table border=\"1\" class=\"dataframe\">\n",
       "  <thead>\n",
       "    <tr style=\"text-align: right;\">\n",
       "      <th></th>\n",
       "      <th>cust_id</th>\n",
       "      <th>lookalikes</th>\n",
       "    </tr>\n",
       "  </thead>\n",
       "  <tbody>\n",
       "    <tr>\n",
       "      <th>0</th>\n",
       "      <td>C0001</td>\n",
       "      <td>[('C0137', 0.999217832279607), ('C0152', 0.992...</td>\n",
       "    </tr>\n",
       "    <tr>\n",
       "      <th>1</th>\n",
       "      <td>C0002</td>\n",
       "      <td>[('C0029', 0.9996304690463752), ('C0199', 0.99...</td>\n",
       "    </tr>\n",
       "    <tr>\n",
       "      <th>2</th>\n",
       "      <td>C0003</td>\n",
       "      <td>[('C0005', 0.9999316372091099), ('C0178', 0.99...</td>\n",
       "    </tr>\n",
       "    <tr>\n",
       "      <th>3</th>\n",
       "      <td>C0004</td>\n",
       "      <td>[('C0067', 0.9998110253764196), ('C0021', 0.99...</td>\n",
       "    </tr>\n",
       "    <tr>\n",
       "      <th>4</th>\n",
       "      <td>C0005</td>\n",
       "      <td>[('C0003', 0.9999316372091099), ('C0073', 0.99...</td>\n",
       "    </tr>\n",
       "    <tr>\n",
       "      <th>5</th>\n",
       "      <td>C0006</td>\n",
       "      <td>[('C0079', 0.9999839458199934), ('C0117', 0.99...</td>\n",
       "    </tr>\n",
       "    <tr>\n",
       "      <th>6</th>\n",
       "      <td>C0007</td>\n",
       "      <td>[('C0085', 0.9998021851965131), ('C0140', 0.99...</td>\n",
       "    </tr>\n",
       "    <tr>\n",
       "      <th>7</th>\n",
       "      <td>C0008</td>\n",
       "      <td>[('C0084', 0.9955933187236518), ('C0194', 0.99...</td>\n",
       "    </tr>\n",
       "    <tr>\n",
       "      <th>8</th>\n",
       "      <td>C0009</td>\n",
       "      <td>[('C0077', 0.9998301326192339), ('C0032', 0.99...</td>\n",
       "    </tr>\n",
       "    <tr>\n",
       "      <th>9</th>\n",
       "      <td>C0010</td>\n",
       "      <td>[('C0029', 0.9997659902062711), ('C0025', 0.99...</td>\n",
       "    </tr>\n",
       "  </tbody>\n",
       "</table>\n",
       "</div>"
      ],
      "text/plain": [
       "  cust_id                                         lookalikes\n",
       "0   C0001  [('C0137', 0.999217832279607), ('C0152', 0.992...\n",
       "1   C0002  [('C0029', 0.9996304690463752), ('C0199', 0.99...\n",
       "2   C0003  [('C0005', 0.9999316372091099), ('C0178', 0.99...\n",
       "3   C0004  [('C0067', 0.9998110253764196), ('C0021', 0.99...\n",
       "4   C0005  [('C0003', 0.9999316372091099), ('C0073', 0.99...\n",
       "5   C0006  [('C0079', 0.9999839458199934), ('C0117', 0.99...\n",
       "6   C0007  [('C0085', 0.9998021851965131), ('C0140', 0.99...\n",
       "7   C0008  [('C0084', 0.9955933187236518), ('C0194', 0.99...\n",
       "8   C0009  [('C0077', 0.9998301326192339), ('C0032', 0.99...\n",
       "9   C0010  [('C0029', 0.9997659902062711), ('C0025', 0.99..."
      ]
     },
     "execution_count": 1,
     "metadata": {},
     "output_type": "execute_result"
    }
   ],
   "source": [
    "# Importing necessary libraries\n",
    "import pandas as pd\n",
    "from sklearn.preprocessing import StandardScaler\n",
    "from sklearn.metrics.pairwise import cosine_similarity\n",
    "\n",
    "# 1. Data Loading\n",
    "customers = pd.read_csv('Customers.csv')\n",
    "products = pd.read_csv('Products.csv')\n",
    "transactions = pd.read_csv('Transactions.csv')\n",
    "\n",
    "# 2. Data Preprocessing\n",
    "customers['SignupDate'] = pd.to_datetime(customers['SignupDate'])\n",
    "transactions['TransactionDate'] = pd.to_datetime(transactions['TransactionDate'])\n",
    "\n",
    "# Fill missing values with zeros for simplicity in this example\n",
    "customers = customers.fillna({'Region': 'Unknown'})\n",
    "transactions = transactions.fillna({'Quantity': 0, 'TotalValue': 0})\n",
    "\n",
    "# 3. Feature Engineering: Create customer profiles based on transaction data\n",
    "customer_features = transactions.groupby('CustomerID').agg(\n",
    "    total_spent=('TotalValue', 'sum'),\n",
    "    transaction_count=('TransactionID', 'count'),\n",
    "    avg_order_value=('TotalValue', 'mean')\n",
    ").reset_index()\n",
    "\n",
    "# Merge customer profile features with customer information\n",
    "customer_profiles = pd.merge(customers, customer_features, on='CustomerID', how='left').fillna(0)\n",
    "\n",
    "# 4. Feature Normalization\n",
    "scaler = StandardScaler()\n",
    "normalized_features = scaler.fit_transform(customer_profiles[['total_spent', 'transaction_count', 'avg_order_value']])\n",
    "\n",
    "# 5. Compute Cosine Similarity Matrix\n",
    "similarity_matrix = cosine_similarity(normalized_features)\n",
    "\n",
    "# 6. Generate Lookalike Recommendations\n",
    "lookalike_results = {}\n",
    "for idx, customer_id in enumerate(customer_profiles['CustomerID']):\n",
    "    similarity_scores = list(enumerate(similarity_matrix[idx]))\n",
    "    similarity_scores = sorted(similarity_scores, key=lambda x: -x[1])  # Sort by score\n",
    "    top_3 = [(customer_profiles['CustomerID'][i], score) for i, score in similarity_scores[1:4]]  # Top 3 excluding the customer itself\n",
    "    lookalike_results[customer_id] = top_3\n",
    "\n",
    "# 7. Create Lookalike.csv for the first 20 customers (C0001 to C0020)\n",
    "lookalike_df = pd.DataFrame({\n",
    "    'cust_id': list(lookalike_results.keys()),\n",
    "    'lookalikes': [str(v) for v in lookalike_results.values()]\n",
    "})\n",
    "\n",
    "# Filter for the first 20 customers (C0001 to C0020)\n",
    "lookalike_df = lookalike_df[lookalike_df['cust_id'].apply(lambda x: int(x[1:]) <= 20)]\n",
    "\n",
    "# Save results to a CSV file\n",
    "lookalike_df.to_csv('Lookalike.csv', index=False)\n",
    "\n",
    "# Displaying a sample of the result\n",
    "lookalike_df.head(10)\n"
   ]
  },
  {
   "cell_type": "raw",
   "id": "573d8ca9-c389-4571-89df-3b7418b8a0d6",
   "metadata": {},
   "source": [
    "Implementation Outline"
   ]
  },
  {
   "cell_type": "code",
   "execution_count": 2,
   "id": "349a2388-6866-4b65-8c83-028b7aac28e4",
   "metadata": {},
   "outputs": [
    {
     "name": "stdout",
     "output_type": "stream",
     "text": [
      "[('C0069', 0.9684790049303688), ('C0091', 0.9260214176758534), ('C0072', 0.8757508889789443)]\n"
     ]
    },
    {
     "data": {
      "text/html": [
       "<div>\n",
       "<style scoped>\n",
       "    .dataframe tbody tr th:only-of-type {\n",
       "        vertical-align: middle;\n",
       "    }\n",
       "\n",
       "    .dataframe tbody tr th {\n",
       "        vertical-align: top;\n",
       "    }\n",
       "\n",
       "    .dataframe thead th {\n",
       "        text-align: right;\n",
       "    }\n",
       "</style>\n",
       "<table border=\"1\" class=\"dataframe\">\n",
       "  <thead>\n",
       "    <tr style=\"text-align: right;\">\n",
       "      <th></th>\n",
       "      <th>cust_id</th>\n",
       "      <th>lookalikes</th>\n",
       "    </tr>\n",
       "  </thead>\n",
       "  <tbody>\n",
       "    <tr>\n",
       "      <th>0</th>\n",
       "      <td>C0001</td>\n",
       "      <td>[('C0069', 0.9684790049303688), ('C0091', 0.92...</td>\n",
       "    </tr>\n",
       "    <tr>\n",
       "      <th>1</th>\n",
       "      <td>C0002</td>\n",
       "      <td>[('C0036', 0.8777774116934461), ('C0055', 0.86...</td>\n",
       "    </tr>\n",
       "    <tr>\n",
       "      <th>2</th>\n",
       "      <td>C0003</td>\n",
       "      <td>[('C0166', 0.927062271629985), ('C0007', 0.899...</td>\n",
       "    </tr>\n",
       "    <tr>\n",
       "      <th>3</th>\n",
       "      <td>C0004</td>\n",
       "      <td>[('C0075', 0.9806534502912463), ('C0065', 0.92...</td>\n",
       "    </tr>\n",
       "    <tr>\n",
       "      <th>4</th>\n",
       "      <td>C0005</td>\n",
       "      <td>[('C0197', 0.9786215349201892), ('C0166', 0.92...</td>\n",
       "    </tr>\n",
       "  </tbody>\n",
       "</table>\n",
       "</div>"
      ],
      "text/plain": [
       "  cust_id                                         lookalikes\n",
       "0   C0001  [('C0069', 0.9684790049303688), ('C0091', 0.92...\n",
       "1   C0002  [('C0036', 0.8777774116934461), ('C0055', 0.86...\n",
       "2   C0003  [('C0166', 0.927062271629985), ('C0007', 0.899...\n",
       "3   C0004  [('C0075', 0.9806534502912463), ('C0065', 0.92...\n",
       "4   C0005  [('C0197', 0.9786215349201892), ('C0166', 0.92..."
      ]
     },
     "execution_count": 2,
     "metadata": {},
     "output_type": "execute_result"
    }
   ],
   "source": [
    "import pandas as pd\n",
    "from sklearn.preprocessing import StandardScaler\n",
    "from sklearn.metrics.pairwise import cosine_similarity\n",
    "\n",
    "# Load the datasets\n",
    "customers = pd.read_csv('Customers.csv')\n",
    "products = pd.read_csv('Products.csv')\n",
    "transactions = pd.read_csv('Transactions.csv')\n",
    "\n",
    "# Convert date columns to datetime format\n",
    "customers['SignupDate'] = pd.to_datetime(customers['SignupDate'])\n",
    "transactions['TransactionDate'] = pd.to_datetime(transactions['TransactionDate'])\n",
    "\n",
    "# Handle missing data\n",
    "customers.fillna({'Region': 'Unknown'}, inplace=True)\n",
    "transactions.fillna({'Quantity': 0, 'TotalValue': 0}, inplace=True)\n",
    "\n",
    "# Feature Engineering\n",
    "\n",
    "# 1. Customer Profile: Create customer features from transactional data\n",
    "customer_features = transactions.groupby('CustomerID').agg(\n",
    "    total_spent=('TotalValue', 'sum'),\n",
    "    transaction_count=('TransactionID', 'count'),\n",
    "    avg_order_value=('TotalValue', 'mean')\n",
    ").reset_index()\n",
    "\n",
    "# 2. Product Preferences: Aggregate product categories bought by the customer\n",
    "product_preferences = transactions.merge(products[['ProductID', 'Category']], on='ProductID')\n",
    "product_preferences = product_preferences.groupby(['CustomerID', 'Category']).agg(\n",
    "    total_quantity=('Quantity', 'sum'),\n",
    "    total_value=('TotalValue', 'sum')\n",
    ").reset_index()\n",
    "\n",
    "# Pivot the product preferences to get each customer’s preferences for each category\n",
    "product_pivot = product_preferences.pivot_table(index='CustomerID', columns='Category', values='total_value', fill_value=0)\n",
    "\n",
    "# Merge customer profile with product preferences\n",
    "customer_profiles = pd.merge(customers, customer_features, on='CustomerID', how='left')\n",
    "customer_profiles = pd.merge(customer_profiles, product_pivot, on='CustomerID', how='left').fillna(0)\n",
    "\n",
    "# 3. Normalize features for similarity computation\n",
    "features_to_normalize = ['total_spent', 'transaction_count', 'avg_order_value'] + list(product_pivot.columns)\n",
    "scaler = StandardScaler()\n",
    "customer_profiles[features_to_normalize] = scaler.fit_transform(customer_profiles[features_to_normalize])\n",
    "\n",
    "# 4. Similarity Calculation (Cosine Similarity)\n",
    "similarity_matrix = cosine_similarity(customer_profiles[features_to_normalize])\n",
    "\n",
    "# 5. Generate Lookalike Recommendations for a given customer\n",
    "def get_lookalikes(customer_id, top_n=3):\n",
    "    # Get index of the given customer\n",
    "    customer_idx = customer_profiles[customer_profiles['CustomerID'] == customer_id].index[0]\n",
    "    \n",
    "    # Get similarity scores for the customer\n",
    "    similarity_scores = list(enumerate(similarity_matrix[customer_idx]))\n",
    "    \n",
    "    # Sort by similarity score (descending), and get the top N recommendations (excluding self)\n",
    "    similarity_scores = sorted(similarity_scores, key=lambda x: -x[1])\n",
    "    lookalikes = [(customer_profiles.iloc[i[0]]['CustomerID'], i[1]) for i in similarity_scores[1:top_n+1]]  # Exclude self\n",
    "    \n",
    "    return lookalikes\n",
    "\n",
    "# Example: Get lookalikes for customer C0001\n",
    "lookalikes_for_C0001 = get_lookalikes('C0001', top_n=3)\n",
    "print(lookalikes_for_C0001)\n",
    "\n",
    "# 6. Save lookalike recommendations for the first 20 customers\n",
    "lookalike_results = {}\n",
    "for customer_id in customer_profiles['CustomerID'][:20]:\n",
    "    lookalike_results[customer_id] = get_lookalikes(customer_id)\n",
    "\n",
    "# Save to CSV\n",
    "lookalike_df = pd.DataFrame({\n",
    "    'cust_id': list(lookalike_results.keys()),\n",
    "    'lookalikes': [str(v) for v in lookalike_results.values()]\n",
    "})\n",
    "lookalike_df.to_csv('Lookalike.csv', index=False)\n",
    "\n",
    "# Display first few recommendations\n",
    "lookalike_df.head()\n"
   ]
  },
  {
   "cell_type": "markdown",
   "id": "191bd7bf-42d4-403d-a489-56583ee34dcf",
   "metadata": {},
   "source": [
    "Code for Evaluating Model Accuracy and Logic"
   ]
  },
  {
   "cell_type": "markdown",
   "id": "0e1fdd2c-2cea-4f2a-b370-3347f9e399c7",
   "metadata": {},
   "source": [
    "Data Preprocessing"
   ]
  },
  {
   "cell_type": "raw",
   "id": "b0f2df05-63db-4c5c-9e58-d2d059c81e32",
   "metadata": {},
   "source": [
    "we'll clean and prepare the data for the Lookalike Model."
   ]
  },
  {
   "cell_type": "code",
   "execution_count": 3,
   "id": "6d18df26-0761-427d-a61c-f2933bfcb0a8",
   "metadata": {},
   "outputs": [
    {
     "name": "stdout",
     "output_type": "stream",
     "text": [
      "CustomerID           0\n",
      "total_spent          0\n",
      "transaction_count    0\n",
      "avg_order_value      0\n",
      "Region               0\n",
      "dtype: int64\n"
     ]
    }
   ],
   "source": [
    "# Merging customer and transaction data\n",
    "transactions_with_customer = transactions.merge(customers, on='CustomerID', how='left')\n",
    "\n",
    "# Feature engineering: Calculate total spend, transaction count, and average order value per customer\n",
    "customer_features = transactions_with_customer.groupby('CustomerID').agg(\n",
    "    total_spent=('TotalValue', 'sum'),\n",
    "    transaction_count=('TransactionID', 'count'),\n",
    "    avg_order_value=('TotalValue', 'mean')\n",
    ").reset_index()\n",
    "\n",
    "# Merge with customer demographic data\n",
    "customer_features = customer_features.merge(customers[['CustomerID', 'Region']], on='CustomerID')\n",
    "\n",
    "# Check for missing values after merging\n",
    "print(customer_features.isnull().sum())\n"
   ]
  },
  {
   "cell_type": "markdown",
   "id": "599e057b-a5b3-4437-99cb-cdd56cd1b52b",
   "metadata": {},
   "source": [
    "Lookalike Model"
   ]
  },
  {
   "cell_type": "raw",
   "id": "aa5abf71-54d9-49cb-8d87-84659912c9ec",
   "metadata": {},
   "source": [
    "We'll use cosine similarity based on customer spending patterns and regions to find lookalikes. We can also include product category preferences if needed."
   ]
  },
  {
   "cell_type": "code",
   "execution_count": 4,
   "id": "4ea949f1-1690-4ac0-b3f8-03c1c177fb90",
   "metadata": {},
   "outputs": [
    {
     "name": "stdout",
     "output_type": "stream",
     "text": [
      "Top 3 lookalikes for customer C0001: [('C0137', 0.9993600788417096), ('C0152', 0.9956575062125335), ('C0121', 0.9930123335059389)]\n"
     ]
    }
   ],
   "source": [
    "from sklearn.metrics.pairwise import cosine_similarity\n",
    "from sklearn.preprocessing import StandardScaler\n",
    "\n",
    "# Normalizing features for better similarity comparison\n",
    "scaler = StandardScaler()\n",
    "customer_features_normalized = scaler.fit_transform(customer_features[['total_spent', 'transaction_count', 'avg_order_value']])\n",
    "\n",
    "# Compute the similarity matrix (Cosine Similarity)\n",
    "similarity_matrix = cosine_similarity(customer_features_normalized)\n",
    "\n",
    "# Function to get top N lookalikes for a customer\n",
    "def get_top_lookalikes(customer_id, top_n=3):\n",
    "    customer_idx = customer_features[customer_features['CustomerID'] == customer_id].index[0]\n",
    "    similarity_scores = list(enumerate(similarity_matrix[customer_idx]))\n",
    "    \n",
    "    # Sort customers by similarity score (highest first) and return the top N\n",
    "    similarity_scores = sorted(similarity_scores, key=lambda x: -x[1])\n",
    "    top_lookalikes = [(customer_features.iloc[i[0]]['CustomerID'], i[1]) for i in similarity_scores[1:top_n+1]]\n",
    "    \n",
    "    return top_lookalikes\n",
    "\n",
    "# Test with customer C0001\n",
    "top_lookalikes_c0001 = get_top_lookalikes('C0001', top_n=3)\n",
    "print(\"Top 3 lookalikes for customer C0001:\", top_lookalikes_c0001)\n"
   ]
  },
  {
   "cell_type": "markdown",
   "id": "f7a58393-057d-414e-897c-83f85c167aae",
   "metadata": {},
   "source": [
    "Model Evaluation"
   ]
  },
  {
   "cell_type": "raw",
   "id": "3aa41cec-cc25-427d-8712-58be5b542302",
   "metadata": {},
   "source": [
    "Evaluate the recommendations:\n",
    "\n",
    "Logic: Ensure that the recommendations for each customer are meaningful. For example, check if customers with similar total spending or from the same region are recommended.\n",
    "Accuracy: In the absence of explicit ground truth for lookalikes, we can manually inspect a few recommendations for relevance."
   ]
  },
  {
   "cell_type": "code",
   "execution_count": 5,
   "id": "05631414-6132-48b9-8dec-ed70cd9ff521",
   "metadata": {},
   "outputs": [
    {
     "name": "stdout",
     "output_type": "stream",
     "text": [
      "\n",
      "Original Customer C0001 features:\n",
      "   total_spent  transaction_count  avg_order_value         Region\n",
      "0      3354.52                  5          670.904  South America\n",
      "\n",
      "Recommended Lookalikes:\n",
      "    CustomerID  total_spent  transaction_count  avg_order_value         Region\n",
      "120      C0121       974.52                  4          243.630         Europe\n",
      "136      C0137      3332.55                  5          666.510  South America\n",
      "151      C0152      3385.86                  5          677.172  South America\n"
     ]
    }
   ],
   "source": [
    "# Inspect features of recommended lookalikes\n",
    "def inspect_lookalikes(customer_id, top_n=3):\n",
    "    lookalikes = get_top_lookalikes(customer_id, top_n)\n",
    "    \n",
    "    # Get the original customer's features\n",
    "    original_customer = customer_features[customer_features['CustomerID'] == customer_id]\n",
    "    \n",
    "    # Get the lookalikes' features\n",
    "    lookalike_customers = customer_features[customer_features['CustomerID'].isin([x[0] for x in lookalikes])]\n",
    "    \n",
    "    print(f\"\\nOriginal Customer {customer_id} features:\")\n",
    "    print(original_customer[['total_spent', 'transaction_count', 'avg_order_value', 'Region']])\n",
    "    \n",
    "    print(\"\\nRecommended Lookalikes:\")\n",
    "    print(lookalike_customers[['CustomerID', 'total_spent', 'transaction_count', 'avg_order_value', 'Region']])\n",
    "\n",
    "# Test inspection for customer C0001\n",
    "inspect_lookalikes('C0001', top_n=3)\n"
   ]
  }
 ],
 "metadata": {
  "kernelspec": {
   "display_name": "Python 3 (ipykernel)",
   "language": "python",
   "name": "python3"
  },
  "language_info": {
   "codemirror_mode": {
    "name": "ipython",
    "version": 3
   },
   "file_extension": ".py",
   "mimetype": "text/x-python",
   "name": "python",
   "nbconvert_exporter": "python",
   "pygments_lexer": "ipython3",
   "version": "3.12.4"
  }
 },
 "nbformat": 4,
 "nbformat_minor": 5
}
